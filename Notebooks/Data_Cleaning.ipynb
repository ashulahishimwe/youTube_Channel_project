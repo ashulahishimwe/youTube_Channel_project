{
 "cells": [
  {
   "cell_type": "markdown",
   "id": "69419055-ecf1-4934-a570-db53e8f7beba",
   "metadata": {},
   "source": [
    "## Data Cleaning\n",
    "\n",
    "Before we can analyze the YouTube data, we need to clean and prepare it.\n",
    "\n",
    "In this notebook, we perform essential cleaning tasks to ensure the data is structured, accurate, and ready for analysis.  \n",
    "This includes:\n",
    "\n",
    "- Converting date columns to proper datetime format  \n",
    "- Changing numeric columns from strings to numbers  \n",
    "- Removing empty or irrelevant comments  \n",
    "- Cleaning text for sentiment and word frequency analysis, etc\n",
    "\n",
    "Clean data helps us generate more accurate insights in the next steps."
   ]
  },
  {
   "cell_type": "markdown",
   "id": "9eb4ae7b-a325-4658-9d97-61073b57201d",
   "metadata": {},
   "source": [
    "### These Libraries Are Used\n",
    "\n",
    "- `import pandas as pd`: To load and manipulate tabular data like CSV files efficiently.\n",
    "\n",
    "- `import numpy as np`: To handle missing values (like `np.nan`) and perform numerical operations.\n",
    "\n",
    "- `import os`: To manage file paths and environment variables if needed.\n",
    "\n",
    "- `import re`: To clean text using regular expressions (e.g., removing URLs or special characters).\n",
    "\n",
    "- `import nltk` and `from nltk.corpus import stopwords`: To download and use the list of stopwords (common words like \"the\", \"and\", etc.) that we remove during text cleaning.\n",
    "\n",
    "- `nltk.download('stopwords')`: To download the stopwords list the first time you use it.\n",
    "\n",
    "These libraries help us clean both the structured metadata and the unstructured comment text effectively."
   ]
  },
  {
   "cell_type": "code",
   "execution_count": 1,
   "id": "bb7b3680-c5ee-478e-aaac-3cf52f8e90c2",
   "metadata": {},
   "outputs": [
    {
     "name": "stderr",
     "output_type": "stream",
     "text": [
      "[nltk_data] Downloading package stopwords to\n",
      "[nltk_data]     C:\\Users\\user\\AppData\\Roaming\\nltk_data...\n",
      "[nltk_data]   Package stopwords is already up-to-date!\n"
     ]
    }
   ],
   "source": [
    "# Import libraries \n",
    "import pandas as pd\n",
    "import numpy as np\n",
    "import os\n",
    "import re\n",
    "import nltk\n",
    "nltk.download('stopwords')\n",
    "from nltk.corpus import stopwords"
   ]
  },
  {
   "cell_type": "markdown",
   "id": "22b63f64-3eab-499e-8fa7-e610614264c4",
   "metadata": {},
   "source": [
    "## Define and Create Directory Paths\n",
    "\n",
    "To ensure reproducibility andorganized storage, we programmatically create directories for:\n",
    "\n",
    "- **raw data**\n",
    "- **processed data**\n",
    "- **results**\n",
    "- **documentation**\n",
    "\n",
    "These directories will store intermediate and final outputs for reproducibility."
   ]
  },
  {
   "cell_type": "code",
   "execution_count": 3,
   "id": "8627f29f-ad58-421d-98c9-f5d3c7d81aed",
   "metadata": {},
   "outputs": [],
   "source": [
    "#Get working directory\n",
    "current_dir = os.getcwd()\n",
    "#go one directory up to root directory\n",
    "project_root_dir = os.path.dirname(current_dir)\n",
    "#Define path to data files\n",
    "data_dir = os.path.join(project_root_dir, 'data')\n",
    "raw_dir = os.path.join(data_dir, 'raw')\n",
    "processed_dir = os.path.join(data_dir, 'processed')\n",
    "#Define path to results folder\n",
    "results_dir = os.path.join(project_root_dir, 'results')\n",
    "#Define path to results folder\n",
    "docs_dir = os.path.join(project_root_dir, 'docs')\n",
    "\n",
    "#Create directories if they do not exist\n",
    "os.makedirs(raw_dir, exist_ok=True)\n",
    "os.makedirs(processed_dir, exist_ok=True)\n",
    "os.makedirs(results_dir, exist_ok=True)\n",
    "os.makedirs(docs_dir, exist_ok=True)"
   ]
  },
  {
   "cell_type": "markdown",
   "id": "22cd5f43-4274-4824-8b34-c916b57f762e",
   "metadata": {},
   "source": [
    "### Load Raw CSV Files\n",
    "\n",
    "In this step, we load the raw video and comment data from CSV files into pandas DataFrames.\n",
    "\n",
    "- `os.path.join(...)` ensures file paths work across all operating systems  \n",
    "- `na_values=\"?\"` treats any \"?\" as a missing value  \n",
    "- `skipinitialspace=True` removes extra spaces after commas in the CSV\n",
    "\n",
    "We now have two datasets:\n",
    "- `video_df`: Video metadata\n",
    "- `comments_df`: Comment data\n"
   ]
  },
  {
   "cell_type": "code",
   "execution_count": 5,
   "id": "bffab643-8b50-4fa9-821d-57672ee348aa",
   "metadata": {},
   "outputs": [],
   "source": [
    "video_filename = os.path.join(raw_dir, \"lex_fridman_videos.csv\")\n",
    "video_df = pd.read_csv(video_filename, na_values=\"?\", skipinitialspace=True)\n",
    "\n",
    "comments_filename = os.path.join(raw_dir, \"lex_fridman_comments.csv\")\n",
    "comments_df = pd.read_csv(comments_filename, na_values=\"?\", skipinitialspace=True)"
   ]
  },
  {
   "cell_type": "markdown",
   "id": "dbf82719-cac2-4094-b989-c6a791ad0dba",
   "metadata": {},
   "source": [
    "### View Dataset Columns\n",
    "\n",
    "We print the column names of both datasets to understand the structure and what kind of data is available for cleaning.\n",
    "\n",
    "- `video_df.columns` shows the fields related to video metadata  \n",
    "- `comments_df.columns` shows the fields related to user comments"
   ]
  },
  {
   "cell_type": "code",
   "execution_count": 7,
   "id": "c9053820-93e3-460d-a285-519bf9bba095",
   "metadata": {},
   "outputs": [
    {
     "name": "stdout",
     "output_type": "stream",
     "text": [
      "Index(['videoId', 'title', 'publishedAt', 'viewCount', 'likeCount',\n",
      "       'commentCount', 'tags', 'description'],\n",
      "      dtype='object')\n",
      "Index(['videoId', 'authorDisplayName', 'textDisplay', 'likeCount',\n",
      "       'publishedAt'],\n",
      "      dtype='object')\n"
     ]
    }
   ],
   "source": [
    "print(video_df.columns)\n",
    "print(comments_df.columns)"
   ]
  },
  {
   "cell_type": "markdown",
   "id": "7d1aa160-5dd7-4e8c-baed-e702416af821",
   "metadata": {},
   "source": [
    "### Dataset Dimensions\n",
    "\n",
    "We check the number of rows and columns in each dataset using `.shape`.\n",
    "\n",
    "- This helps us understand the dataset size and whether it’s manageable  \n",
    "- Format: `(rows, columns)`\n"
   ]
  },
  {
   "cell_type": "code",
   "execution_count": 9,
   "id": "77e4c4c5-6111-4d1a-ba32-770fe3461122",
   "metadata": {},
   "outputs": [
    {
     "name": "stdout",
     "output_type": "stream",
     "text": [
      "(94, 8)\n",
      "(4684, 5)\n"
     ]
    }
   ],
   "source": [
    "print(video_df.shape)\n",
    "print(comments_df.shape)"
   ]
  },
  {
   "cell_type": "markdown",
   "id": "97e2bc3b-7eb4-4ec1-a549-967f470b1bb3",
   "metadata": {},
   "source": [
    "### Dataset Overview\n",
    "\n",
    "We use `.info()` to get a summary of each dataset.\n",
    "\n",
    "- Shows column data types (e.g., object, int, float, datetime)\n",
    "- Shows number of non-null (non-missing) values in each column\n",
    "- Helps identify which columns need type conversion or missing value handling"
   ]
  },
  {
   "cell_type": "code",
   "execution_count": 11,
   "id": "0ca94ac7-6f2c-42e2-900c-254cd2ecf7d8",
   "metadata": {},
   "outputs": [
    {
     "name": "stdout",
     "output_type": "stream",
     "text": [
      "<class 'pandas.core.frame.DataFrame'>\n",
      "RangeIndex: 94 entries, 0 to 93\n",
      "Data columns (total 8 columns):\n",
      " #   Column        Non-Null Count  Dtype \n",
      "---  ------        --------------  ----- \n",
      " 0   videoId       94 non-null     object\n",
      " 1   title         94 non-null     object\n",
      " 2   publishedAt   94 non-null     object\n",
      " 3   viewCount     94 non-null     int64 \n",
      " 4   likeCount     94 non-null     int64 \n",
      " 5   commentCount  94 non-null     int64 \n",
      " 6   tags          94 non-null     object\n",
      " 7   description   91 non-null     object\n",
      "dtypes: int64(3), object(5)\n",
      "memory usage: 6.0+ KB\n",
      "None\n",
      "---------------------------------------------------\n",
      "<class 'pandas.core.frame.DataFrame'>\n",
      "RangeIndex: 4684 entries, 0 to 4683\n",
      "Data columns (total 5 columns):\n",
      " #   Column             Non-Null Count  Dtype \n",
      "---  ------             --------------  ----- \n",
      " 0   videoId            4684 non-null   object\n",
      " 1   authorDisplayName  4682 non-null   object\n",
      " 2   textDisplay        4682 non-null   object\n",
      " 3   likeCount          4684 non-null   int64 \n",
      " 4   publishedAt        4684 non-null   object\n",
      "dtypes: int64(1), object(4)\n",
      "memory usage: 183.1+ KB\n",
      "None\n"
     ]
    }
   ],
   "source": [
    "print(video_df.info())\n",
    "print(\"---------------------------------------------------\")\n",
    "print(comments_df.info())"
   ]
  },
  {
   "cell_type": "markdown",
   "id": "d57881e3-3554-4405-82fe-2909780a3187",
   "metadata": {},
   "source": [
    "### Missing Values Check\n",
    "\n",
    "We use `.isna().sum()` to count the number of missing (NaN) values in each column.\n",
    "\n",
    "- This helps identify which fields need cleaning or filling  \n",
    "- We’ll decide whether to fill, drop, or ignore based on the amount and importance of missing data"
   ]
  },
  {
   "cell_type": "code",
   "execution_count": 13,
   "id": "2ce89f17-ef06-41ae-abc8-d236495975ec",
   "metadata": {},
   "outputs": [
    {
     "name": "stdout",
     "output_type": "stream",
     "text": [
      "videoId         0\n",
      "title           0\n",
      "publishedAt     0\n",
      "viewCount       0\n",
      "likeCount       0\n",
      "commentCount    0\n",
      "tags            0\n",
      "description     3\n",
      "dtype: int64\n",
      "---------------------------------\n",
      "videoId              0\n",
      "authorDisplayName    2\n",
      "textDisplay          2\n",
      "likeCount            0\n",
      "publishedAt          0\n",
      "dtype: int64\n"
     ]
    }
   ],
   "source": [
    "print(video_df.isna().sum())\n",
    "print(\"---------------------------------\")\n",
    "print(comments_df.isna().sum())"
   ]
  },
  {
   "cell_type": "markdown",
   "id": "5221a29e-fbfb-4bbc-bb68-92a469b80c92",
   "metadata": {},
   "source": [
    "### Fill Missing Text Fields\n",
    "\n",
    "We replace missing values in important text columns to avoid errors later:\n",
    "\n",
    "- Video descriptions (`description`) are filled with `'Null'`\n",
    "- Missing commenter names (`authorDisplayName`) are filled with `'unknown'`\n",
    "\n",
    "This keeps the data consistent and safe for further processing."
   ]
  },
  {
   "cell_type": "code",
   "execution_count": 15,
   "id": "1346cbfd-33cb-470c-a684-cc52fbae1a8a",
   "metadata": {},
   "outputs": [],
   "source": [
    "video_df['description'] = video_df['description'].fillna('Null')\n",
    "comments_df['authorDisplayName'] = comments_df['authorDisplayName'].fillna('unknown')"
   ]
  },
  {
   "cell_type": "markdown",
   "id": "65503563-04de-4fce-945b-8f9b423b0559",
   "metadata": {},
   "source": [
    "we check for null values again, we didn't replace one of text display because we will delete it later"
   ]
  },
  {
   "cell_type": "code",
   "execution_count": 17,
   "id": "cd7085cc-13d5-4a2d-87b1-f74f4a16c65e",
   "metadata": {},
   "outputs": [
    {
     "name": "stdout",
     "output_type": "stream",
     "text": [
      "videoId         0\n",
      "title           0\n",
      "publishedAt     0\n",
      "viewCount       0\n",
      "likeCount       0\n",
      "commentCount    0\n",
      "tags            0\n",
      "description     0\n",
      "dtype: int64\n",
      "---------------------------------\n",
      "videoId              0\n",
      "authorDisplayName    0\n",
      "textDisplay          2\n",
      "likeCount            0\n",
      "publishedAt          0\n",
      "dtype: int64\n"
     ]
    }
   ],
   "source": [
    "print(video_df.isna().sum())\n",
    "print(\"---------------------------------\")\n",
    "print(comments_df.isna().sum())"
   ]
  },
  {
   "cell_type": "markdown",
   "id": "40bffdb9-c057-44bb-a99e-b3104e1ad740",
   "metadata": {},
   "source": [
    "we checked duplicated values again and we didn't find any"
   ]
  },
  {
   "cell_type": "code",
   "execution_count": 19,
   "id": "571c798e-0be2-4a93-932f-fc3e5f3843d5",
   "metadata": {},
   "outputs": [
    {
     "name": "stdout",
     "output_type": "stream",
     "text": [
      "0\n",
      "---------------------------------\n",
      "0\n"
     ]
    }
   ],
   "source": [
    "print(video_df.duplicated().sum())\n",
    "print(\"---------------------------------\")\n",
    "print(comments_df.duplicated().sum())"
   ]
  },
  {
   "cell_type": "markdown",
   "id": "7230dcbc-9505-41d4-9d74-eeaf6da7f6ef",
   "metadata": {},
   "source": [
    "### Check for Object-Type Columns\n",
    "\n",
    "We check which columns have the `object` data type (usually text or mixed data).\n",
    "\n",
    "- This helps identify columns that might need conversion to `datetime`, `int`, or `float`\n",
    "- It also prepares us to clean or process text fields more effectively"
   ]
  },
  {
   "cell_type": "code",
   "execution_count": 21,
   "id": "a851259e-4553-483d-acaa-68ec866b56a5",
   "metadata": {},
   "outputs": [
    {
     "name": "stdout",
     "output_type": "stream",
     "text": [
      "videoId          True\n",
      "title            True\n",
      "publishedAt      True\n",
      "viewCount       False\n",
      "likeCount       False\n",
      "commentCount    False\n",
      "tags             True\n",
      "description      True\n",
      "dtype: bool\n",
      "---------------------------------\n",
      "videoId               True\n",
      "authorDisplayName     True\n",
      "textDisplay           True\n",
      "likeCount            False\n",
      "publishedAt           True\n",
      "dtype: bool\n"
     ]
    }
   ],
   "source": [
    "print(video_df.dtypes == object)\n",
    "print(\"---------------------------------\")\n",
    "print(comments_df.dtypes == object)"
   ]
  },
  {
   "cell_type": "markdown",
   "id": "0ab75a7e-d1bd-46ea-81ba-a2c2d0e4acbe",
   "metadata": {},
   "source": [
    "### Preview Video and Comments Dataset\n",
    "\n",
    "We use `.head()` to display the first 5 rows of the video metadata.\n",
    "\n",
    "- Helps us visually inspect the data  \n",
    "- Confirms that columns are loaded and readable"
   ]
  },
  {
   "cell_type": "code",
   "execution_count": 23,
   "id": "09eb63de-4646-4ed1-a610-504c204a7a33",
   "metadata": {},
   "outputs": [
    {
     "data": {
      "text/html": [
       "<div>\n",
       "<style scoped>\n",
       "    .dataframe tbody tr th:only-of-type {\n",
       "        vertical-align: middle;\n",
       "    }\n",
       "\n",
       "    .dataframe tbody tr th {\n",
       "        vertical-align: top;\n",
       "    }\n",
       "\n",
       "    .dataframe thead th {\n",
       "        text-align: right;\n",
       "    }\n",
       "</style>\n",
       "<table border=\"1\" class=\"dataframe\">\n",
       "  <thead>\n",
       "    <tr style=\"text-align: right;\">\n",
       "      <th></th>\n",
       "      <th>videoId</th>\n",
       "      <th>title</th>\n",
       "      <th>publishedAt</th>\n",
       "      <th>viewCount</th>\n",
       "      <th>likeCount</th>\n",
       "      <th>commentCount</th>\n",
       "      <th>tags</th>\n",
       "      <th>description</th>\n",
       "    </tr>\n",
       "  </thead>\n",
       "  <tbody>\n",
       "    <tr>\n",
       "      <th>0</th>\n",
       "      <td>UN5qgBk6MwY</td>\n",
       "      <td>Terence Tao on Grigori Perelman declining the ...</td>\n",
       "      <td>2025-06-19T23:23:00Z</td>\n",
       "      <td>167222</td>\n",
       "      <td>3301</td>\n",
       "      <td>60</td>\n",
       "      <td>[]</td>\n",
       "      <td>Null</td>\n",
       "    </tr>\n",
       "    <tr>\n",
       "      <th>1</th>\n",
       "      <td>HUkBz-cdB-k</td>\n",
       "      <td>Terence Tao: Hardest Problems in Mathematics, ...</td>\n",
       "      <td>2025-06-14T20:15:34Z</td>\n",
       "      <td>702226</td>\n",
       "      <td>15133</td>\n",
       "      <td>1426</td>\n",
       "      <td>['Terence Tao', 'alex friedman', 'lex ai', 'le...</td>\n",
       "      <td>Terence Tao is widely considered to be one of ...</td>\n",
       "    </tr>\n",
       "    <tr>\n",
       "      <th>2</th>\n",
       "      <td>b268x2kzefY</td>\n",
       "      <td>Lex Fridman tests Google XR glasses</td>\n",
       "      <td>2025-06-13T00:37:30Z</td>\n",
       "      <td>89074</td>\n",
       "      <td>2819</td>\n",
       "      <td>147</td>\n",
       "      <td>[]</td>\n",
       "      <td>Null</td>\n",
       "    </tr>\n",
       "    <tr>\n",
       "      <th>3</th>\n",
       "      <td>ufI31PNM9u8</td>\n",
       "      <td>Google CEO on Elon Musk, Tesla, and Waymo</td>\n",
       "      <td>2025-06-10T20:51:39Z</td>\n",
       "      <td>78715</td>\n",
       "      <td>1805</td>\n",
       "      <td>90</td>\n",
       "      <td>[]</td>\n",
       "      <td>Null</td>\n",
       "    </tr>\n",
       "    <tr>\n",
       "      <th>4</th>\n",
       "      <td>sXPONXB8WCo</td>\n",
       "      <td>Lex Fridman tests Google Beam</td>\n",
       "      <td>2025-06-06T23:04:59Z</td>\n",
       "      <td>401132</td>\n",
       "      <td>6607</td>\n",
       "      <td>261</td>\n",
       "      <td>[]</td>\n",
       "      <td>This is a clip from a podcast episode with Goo...</td>\n",
       "    </tr>\n",
       "  </tbody>\n",
       "</table>\n",
       "</div>"
      ],
      "text/plain": [
       "       videoId                                              title  \\\n",
       "0  UN5qgBk6MwY  Terence Tao on Grigori Perelman declining the ...   \n",
       "1  HUkBz-cdB-k  Terence Tao: Hardest Problems in Mathematics, ...   \n",
       "2  b268x2kzefY                Lex Fridman tests Google XR glasses   \n",
       "3  ufI31PNM9u8          Google CEO on Elon Musk, Tesla, and Waymo   \n",
       "4  sXPONXB8WCo                      Lex Fridman tests Google Beam   \n",
       "\n",
       "            publishedAt  viewCount  likeCount  commentCount  \\\n",
       "0  2025-06-19T23:23:00Z     167222       3301            60   \n",
       "1  2025-06-14T20:15:34Z     702226      15133          1426   \n",
       "2  2025-06-13T00:37:30Z      89074       2819           147   \n",
       "3  2025-06-10T20:51:39Z      78715       1805            90   \n",
       "4  2025-06-06T23:04:59Z     401132       6607           261   \n",
       "\n",
       "                                                tags  \\\n",
       "0                                                 []   \n",
       "1  ['Terence Tao', 'alex friedman', 'lex ai', 'le...   \n",
       "2                                                 []   \n",
       "3                                                 []   \n",
       "4                                                 []   \n",
       "\n",
       "                                         description  \n",
       "0                                               Null  \n",
       "1  Terence Tao is widely considered to be one of ...  \n",
       "2                                               Null  \n",
       "3                                               Null  \n",
       "4  This is a clip from a podcast episode with Goo...  "
      ]
     },
     "execution_count": 23,
     "metadata": {},
     "output_type": "execute_result"
    }
   ],
   "source": [
    "video_df.head()"
   ]
  },
  {
   "cell_type": "code",
   "execution_count": 25,
   "id": "c7471d51-3d57-4127-8e0b-ae946b243903",
   "metadata": {},
   "outputs": [
    {
     "data": {
      "text/html": [
       "<div>\n",
       "<style scoped>\n",
       "    .dataframe tbody tr th:only-of-type {\n",
       "        vertical-align: middle;\n",
       "    }\n",
       "\n",
       "    .dataframe tbody tr th {\n",
       "        vertical-align: top;\n",
       "    }\n",
       "\n",
       "    .dataframe thead th {\n",
       "        text-align: right;\n",
       "    }\n",
       "</style>\n",
       "<table border=\"1\" class=\"dataframe\">\n",
       "  <thead>\n",
       "    <tr style=\"text-align: right;\">\n",
       "      <th></th>\n",
       "      <th>videoId</th>\n",
       "      <th>authorDisplayName</th>\n",
       "      <th>textDisplay</th>\n",
       "      <th>likeCount</th>\n",
       "      <th>publishedAt</th>\n",
       "    </tr>\n",
       "  </thead>\n",
       "  <tbody>\n",
       "    <tr>\n",
       "      <th>0</th>\n",
       "      <td>UN5qgBk6MwY</td>\n",
       "      <td>@iliya-malecki</td>\n",
       "      <td>Id prefer to watch a video on one of the great...</td>\n",
       "      <td>0</td>\n",
       "      <td>2025-06-25T23:29:49Z</td>\n",
       "    </tr>\n",
       "    <tr>\n",
       "      <th>1</th>\n",
       "      <td>UN5qgBk6MwY</td>\n",
       "      <td>@4D_art</td>\n",
       "      <td>Grigori “Pearl”man .</td>\n",
       "      <td>0</td>\n",
       "      <td>2025-06-25T20:48:16Z</td>\n",
       "    </tr>\n",
       "    <tr>\n",
       "      <th>2</th>\n",
       "      <td>UN5qgBk6MwY</td>\n",
       "      <td>@tomorrows-med</td>\n",
       "      <td>Pure genius</td>\n",
       "      <td>0</td>\n",
       "      <td>2025-06-25T14:04:09Z</td>\n",
       "    </tr>\n",
       "    <tr>\n",
       "      <th>3</th>\n",
       "      <td>UN5qgBk6MwY</td>\n",
       "      <td>@extavwudda</td>\n",
       "      <td>I am so sick of Lex sucking up to people</td>\n",
       "      <td>0</td>\n",
       "      <td>2025-06-25T06:08:24Z</td>\n",
       "    </tr>\n",
       "    <tr>\n",
       "      <th>4</th>\n",
       "      <td>UN5qgBk6MwY</td>\n",
       "      <td>@michealvallieres9228</td>\n",
       "      <td>Dude why would you interview a guy that's neve...</td>\n",
       "      <td>0</td>\n",
       "      <td>2025-06-23T23:40:40Z</td>\n",
       "    </tr>\n",
       "  </tbody>\n",
       "</table>\n",
       "</div>"
      ],
      "text/plain": [
       "       videoId      authorDisplayName  \\\n",
       "0  UN5qgBk6MwY         @iliya-malecki   \n",
       "1  UN5qgBk6MwY                @4D_art   \n",
       "2  UN5qgBk6MwY         @tomorrows-med   \n",
       "3  UN5qgBk6MwY            @extavwudda   \n",
       "4  UN5qgBk6MwY  @michealvallieres9228   \n",
       "\n",
       "                                         textDisplay  likeCount  \\\n",
       "0  Id prefer to watch a video on one of the great...          0   \n",
       "1                               Grigori “Pearl”man .          0   \n",
       "2                                        Pure genius          0   \n",
       "3           I am so sick of Lex sucking up to people          0   \n",
       "4  Dude why would you interview a guy that's neve...          0   \n",
       "\n",
       "            publishedAt  \n",
       "0  2025-06-25T23:29:49Z  \n",
       "1  2025-06-25T20:48:16Z  \n",
       "2  2025-06-25T14:04:09Z  \n",
       "3  2025-06-25T06:08:24Z  \n",
       "4  2025-06-23T23:40:40Z  "
      ]
     },
     "execution_count": 25,
     "metadata": {},
     "output_type": "execute_result"
    }
   ],
   "source": [
    "comments_df.head()"
   ]
  },
  {
   "cell_type": "markdown",
   "id": "db7e32d3-f008-4e55-861e-00df8d48621a",
   "metadata": {},
   "source": [
    "## Clean Video Metadata\n",
    "\n",
    "Here’s what we’ll do:\n",
    "\n",
    "- Convert dates to datetime\n",
    "\n",
    "- Make numbers numeric\n",
    "\n",
    "- Clean text fields"
   ]
  },
  {
   "cell_type": "markdown",
   "id": "c764cb3f-c9f4-4d5f-8125-d2cd37bcc674",
   "metadata": {},
   "source": [
    "### Clean and Convert Video Data\n",
    "\n",
    "We clean and convert key columns in the video dataset:\n",
    "\n",
    "- `publishedAt`: Converted to datetime for time-based analysis  \n",
    "- `viewCount`, `likeCount`, `commentCount`: Converted to numeric (in case they were strings)  \n",
    "- `title` and `description`: Cleaned to remove newlines and extra spaces\n",
    "\n",
    "This ensures consistent formats and prepares the data for accurate visualizations."
   ]
  },
  {
   "cell_type": "code",
   "execution_count": 27,
   "id": "1cb3263b-21c1-455b-812f-99dd0433b29a",
   "metadata": {},
   "outputs": [
    {
     "data": {
      "text/html": [
       "<div>\n",
       "<style scoped>\n",
       "    .dataframe tbody tr th:only-of-type {\n",
       "        vertical-align: middle;\n",
       "    }\n",
       "\n",
       "    .dataframe tbody tr th {\n",
       "        vertical-align: top;\n",
       "    }\n",
       "\n",
       "    .dataframe thead th {\n",
       "        text-align: right;\n",
       "    }\n",
       "</style>\n",
       "<table border=\"1\" class=\"dataframe\">\n",
       "  <thead>\n",
       "    <tr style=\"text-align: right;\">\n",
       "      <th></th>\n",
       "      <th>videoId</th>\n",
       "      <th>title</th>\n",
       "      <th>publishedAt</th>\n",
       "      <th>viewCount</th>\n",
       "      <th>likeCount</th>\n",
       "      <th>commentCount</th>\n",
       "      <th>tags</th>\n",
       "      <th>description</th>\n",
       "    </tr>\n",
       "  </thead>\n",
       "  <tbody>\n",
       "    <tr>\n",
       "      <th>0</th>\n",
       "      <td>UN5qgBk6MwY</td>\n",
       "      <td>Terence Tao on Grigori Perelman declining the ...</td>\n",
       "      <td>2025-06-19 23:23:00+00:00</td>\n",
       "      <td>167222</td>\n",
       "      <td>3301</td>\n",
       "      <td>60</td>\n",
       "      <td>[]</td>\n",
       "      <td>Null</td>\n",
       "    </tr>\n",
       "    <tr>\n",
       "      <th>1</th>\n",
       "      <td>HUkBz-cdB-k</td>\n",
       "      <td>Terence Tao: Hardest Problems in Mathematics, ...</td>\n",
       "      <td>2025-06-14 20:15:34+00:00</td>\n",
       "      <td>702226</td>\n",
       "      <td>15133</td>\n",
       "      <td>1426</td>\n",
       "      <td>['Terence Tao', 'alex friedman', 'lex ai', 'le...</td>\n",
       "      <td>Terence Tao is widely considered to be one of ...</td>\n",
       "    </tr>\n",
       "    <tr>\n",
       "      <th>2</th>\n",
       "      <td>b268x2kzefY</td>\n",
       "      <td>Lex Fridman tests Google XR glasses</td>\n",
       "      <td>2025-06-13 00:37:30+00:00</td>\n",
       "      <td>89074</td>\n",
       "      <td>2819</td>\n",
       "      <td>147</td>\n",
       "      <td>[]</td>\n",
       "      <td>Null</td>\n",
       "    </tr>\n",
       "    <tr>\n",
       "      <th>3</th>\n",
       "      <td>ufI31PNM9u8</td>\n",
       "      <td>Google CEO on Elon Musk, Tesla, and Waymo</td>\n",
       "      <td>2025-06-10 20:51:39+00:00</td>\n",
       "      <td>78715</td>\n",
       "      <td>1805</td>\n",
       "      <td>90</td>\n",
       "      <td>[]</td>\n",
       "      <td>Null</td>\n",
       "    </tr>\n",
       "    <tr>\n",
       "      <th>4</th>\n",
       "      <td>sXPONXB8WCo</td>\n",
       "      <td>Lex Fridman tests Google Beam</td>\n",
       "      <td>2025-06-06 23:04:59+00:00</td>\n",
       "      <td>401132</td>\n",
       "      <td>6607</td>\n",
       "      <td>261</td>\n",
       "      <td>[]</td>\n",
       "      <td>This is a clip from a podcast episode with Goo...</td>\n",
       "    </tr>\n",
       "  </tbody>\n",
       "</table>\n",
       "</div>"
      ],
      "text/plain": [
       "       videoId                                              title  \\\n",
       "0  UN5qgBk6MwY  Terence Tao on Grigori Perelman declining the ...   \n",
       "1  HUkBz-cdB-k  Terence Tao: Hardest Problems in Mathematics, ...   \n",
       "2  b268x2kzefY                Lex Fridman tests Google XR glasses   \n",
       "3  ufI31PNM9u8          Google CEO on Elon Musk, Tesla, and Waymo   \n",
       "4  sXPONXB8WCo                      Lex Fridman tests Google Beam   \n",
       "\n",
       "                publishedAt  viewCount  likeCount  commentCount  \\\n",
       "0 2025-06-19 23:23:00+00:00     167222       3301            60   \n",
       "1 2025-06-14 20:15:34+00:00     702226      15133          1426   \n",
       "2 2025-06-13 00:37:30+00:00      89074       2819           147   \n",
       "3 2025-06-10 20:51:39+00:00      78715       1805            90   \n",
       "4 2025-06-06 23:04:59+00:00     401132       6607           261   \n",
       "\n",
       "                                                tags  \\\n",
       "0                                                 []   \n",
       "1  ['Terence Tao', 'alex friedman', 'lex ai', 'le...   \n",
       "2                                                 []   \n",
       "3                                                 []   \n",
       "4                                                 []   \n",
       "\n",
       "                                         description  \n",
       "0                                               Null  \n",
       "1  Terence Tao is widely considered to be one of ...  \n",
       "2                                               Null  \n",
       "3                                               Null  \n",
       "4  This is a clip from a podcast episode with Goo...  "
      ]
     },
     "execution_count": 27,
     "metadata": {},
     "output_type": "execute_result"
    }
   ],
   "source": [
    "# Convert publishedAt to datetime\n",
    "video_df['publishedAt'] = pd.to_datetime(video_df['publishedAt'])\n",
    "\n",
    "# Convert numeric fields\n",
    "video_df['viewCount'] = pd.to_numeric(video_df['viewCount'], errors='coerce')\n",
    "video_df['likeCount'] = pd.to_numeric(video_df['likeCount'], errors='coerce')\n",
    "video_df['commentCount'] = pd.to_numeric(video_df['commentCount'], errors='coerce')\n",
    "\n",
    "# Clean text fields (remove line breaks and extra spaces)\n",
    "video_df['title'] = video_df['title'].str.replace('\\n', ' ').str.strip()\n",
    "video_df['description'] = video_df['description'].str.replace('\\n', ' ').str.strip()\n",
    "\n",
    "video_df.head()"
   ]
  },
  {
   "cell_type": "markdown",
   "id": "f5beb74a-0df4-4c0f-9b79-7f2b97e0ac84",
   "metadata": {},
   "source": [
    "### Rename Columns for Clarity\n",
    "\n",
    "We rename columns to make it clear whether the data comes from videos or comments:\n",
    "\n",
    "- `publishedAt` → `videoPublishedAt` and `commentPublishedAt`  \n",
    "- `likeCount` → `videoLikeCount` and `commentLikeCount`\n",
    "\n",
    "This avoids confusion when merging or analyzing both datasets together."
   ]
  },
  {
   "cell_type": "code",
   "execution_count": 33,
   "id": "d97102c6-fd44-4951-a0c1-b66468dd73ac",
   "metadata": {},
   "outputs": [],
   "source": [
    "video_df.rename(columns={'publishedAt': 'videoPublishedAt'}, inplace=True)\n",
    "comments_df.rename(columns={'publishedAt': 'commentPublishedAt'}, inplace=True)\n",
    "video_df.rename(columns={'likeCount': 'videoLikeCount'}, inplace=True)\n",
    "comments_df.rename(columns={'likeCount': 'commentLikeCount'}, inplace=True)"
   ]
  },
  {
   "cell_type": "markdown",
   "id": "bfe72b63-18f0-4ec1-941c-6c3944a1141d",
   "metadata": {},
   "source": [
    "### Verify Updated Column Names\n",
    "\n",
    "We print the column names again to confirm that renaming was successful.\n",
    "\n",
    "- Ensures that the changes were applied correctly  \n",
    "- Helps us move forward with confidence when merging or analyzing data"
   ]
  },
  {
   "cell_type": "code",
   "execution_count": 37,
   "id": "204302b8-d28c-4762-b2d3-a42203b711a4",
   "metadata": {},
   "outputs": [
    {
     "name": "stdout",
     "output_type": "stream",
     "text": [
      "Index(['videoId', 'title', 'videoPublishedAt', 'viewCount', 'videoLikeCount',\n",
      "       'commentCount', 'tags', 'description'],\n",
      "      dtype='object')\n",
      "Index(['videoId', 'authorDisplayName', 'textDisplay', 'commentLikeCount',\n",
      "       'commentPublishedAt'],\n",
      "      dtype='object')\n"
     ]
    }
   ],
   "source": [
    "print(video_df.columns)\n",
    "print(comments_df.columns)"
   ]
  },
  {
   "cell_type": "markdown",
   "id": "e83a8461-f927-40a3-a5fe-952a9d0e5bd9",
   "metadata": {},
   "source": [
    "### Final Cleanup of Video Data\n",
    "\n",
    "We reapply important cleaning steps to ensure consistency with the renamed columns:\n",
    "\n",
    "- `videoPublishedAt`: Converted to datetime format  \n",
    "- `viewCount`, `videoLikeCount`, `commentCount`: Converted to numeric values  \n",
    "- `title` and `description`: Cleaned to remove line breaks and extra spaces\n",
    "\n",
    "This step guarantees that all key fields are clean and ready for merging or analysis."
   ]
  },
  {
   "cell_type": "code",
   "execution_count": 39,
   "id": "e361fff0-69a0-49da-ad0b-3e6362790e04",
   "metadata": {},
   "outputs": [
    {
     "data": {
      "text/html": [
       "<div>\n",
       "<style scoped>\n",
       "    .dataframe tbody tr th:only-of-type {\n",
       "        vertical-align: middle;\n",
       "    }\n",
       "\n",
       "    .dataframe tbody tr th {\n",
       "        vertical-align: top;\n",
       "    }\n",
       "\n",
       "    .dataframe thead th {\n",
       "        text-align: right;\n",
       "    }\n",
       "</style>\n",
       "<table border=\"1\" class=\"dataframe\">\n",
       "  <thead>\n",
       "    <tr style=\"text-align: right;\">\n",
       "      <th></th>\n",
       "      <th>videoId</th>\n",
       "      <th>title</th>\n",
       "      <th>videoPublishedAt</th>\n",
       "      <th>viewCount</th>\n",
       "      <th>videoLikeCount</th>\n",
       "      <th>commentCount</th>\n",
       "      <th>tags</th>\n",
       "      <th>description</th>\n",
       "    </tr>\n",
       "  </thead>\n",
       "  <tbody>\n",
       "    <tr>\n",
       "      <th>0</th>\n",
       "      <td>UN5qgBk6MwY</td>\n",
       "      <td>Terence Tao on Grigori Perelman declining the ...</td>\n",
       "      <td>2025-06-19 23:23:00+00:00</td>\n",
       "      <td>167222</td>\n",
       "      <td>3301</td>\n",
       "      <td>60</td>\n",
       "      <td>[]</td>\n",
       "      <td>Null</td>\n",
       "    </tr>\n",
       "    <tr>\n",
       "      <th>1</th>\n",
       "      <td>HUkBz-cdB-k</td>\n",
       "      <td>Terence Tao: Hardest Problems in Mathematics, ...</td>\n",
       "      <td>2025-06-14 20:15:34+00:00</td>\n",
       "      <td>702226</td>\n",
       "      <td>15133</td>\n",
       "      <td>1426</td>\n",
       "      <td>['Terence Tao', 'alex friedman', 'lex ai', 'le...</td>\n",
       "      <td>Terence Tao is widely considered to be one of ...</td>\n",
       "    </tr>\n",
       "    <tr>\n",
       "      <th>2</th>\n",
       "      <td>b268x2kzefY</td>\n",
       "      <td>Lex Fridman tests Google XR glasses</td>\n",
       "      <td>2025-06-13 00:37:30+00:00</td>\n",
       "      <td>89074</td>\n",
       "      <td>2819</td>\n",
       "      <td>147</td>\n",
       "      <td>[]</td>\n",
       "      <td>Null</td>\n",
       "    </tr>\n",
       "    <tr>\n",
       "      <th>3</th>\n",
       "      <td>ufI31PNM9u8</td>\n",
       "      <td>Google CEO on Elon Musk, Tesla, and Waymo</td>\n",
       "      <td>2025-06-10 20:51:39+00:00</td>\n",
       "      <td>78715</td>\n",
       "      <td>1805</td>\n",
       "      <td>90</td>\n",
       "      <td>[]</td>\n",
       "      <td>Null</td>\n",
       "    </tr>\n",
       "    <tr>\n",
       "      <th>4</th>\n",
       "      <td>sXPONXB8WCo</td>\n",
       "      <td>Lex Fridman tests Google Beam</td>\n",
       "      <td>2025-06-06 23:04:59+00:00</td>\n",
       "      <td>401132</td>\n",
       "      <td>6607</td>\n",
       "      <td>261</td>\n",
       "      <td>[]</td>\n",
       "      <td>This is a clip from a podcast episode with Goo...</td>\n",
       "    </tr>\n",
       "  </tbody>\n",
       "</table>\n",
       "</div>"
      ],
      "text/plain": [
       "       videoId                                              title  \\\n",
       "0  UN5qgBk6MwY  Terence Tao on Grigori Perelman declining the ...   \n",
       "1  HUkBz-cdB-k  Terence Tao: Hardest Problems in Mathematics, ...   \n",
       "2  b268x2kzefY                Lex Fridman tests Google XR glasses   \n",
       "3  ufI31PNM9u8          Google CEO on Elon Musk, Tesla, and Waymo   \n",
       "4  sXPONXB8WCo                      Lex Fridman tests Google Beam   \n",
       "\n",
       "           videoPublishedAt  viewCount  videoLikeCount  commentCount  \\\n",
       "0 2025-06-19 23:23:00+00:00     167222            3301            60   \n",
       "1 2025-06-14 20:15:34+00:00     702226           15133          1426   \n",
       "2 2025-06-13 00:37:30+00:00      89074            2819           147   \n",
       "3 2025-06-10 20:51:39+00:00      78715            1805            90   \n",
       "4 2025-06-06 23:04:59+00:00     401132            6607           261   \n",
       "\n",
       "                                                tags  \\\n",
       "0                                                 []   \n",
       "1  ['Terence Tao', 'alex friedman', 'lex ai', 'le...   \n",
       "2                                                 []   \n",
       "3                                                 []   \n",
       "4                                                 []   \n",
       "\n",
       "                                         description  \n",
       "0                                               Null  \n",
       "1  Terence Tao is widely considered to be one of ...  \n",
       "2                                               Null  \n",
       "3                                               Null  \n",
       "4  This is a clip from a podcast episode with Goo...  "
      ]
     },
     "execution_count": 39,
     "metadata": {},
     "output_type": "execute_result"
    }
   ],
   "source": [
    "# Convert publishedAt to datetime\n",
    "video_df['videoPublishedAt'] = pd.to_datetime(video_df['videoPublishedAt'])\n",
    "\n",
    "# Convert numeric fields\n",
    "video_df['viewCount'] = pd.to_numeric(video_df['viewCount'], errors='coerce')\n",
    "video_df['videoLikeCount'] = pd.to_numeric(video_df['videoLikeCount'], errors='coerce')\n",
    "video_df['commentCount'] = pd.to_numeric(video_df['commentCount'], errors='coerce')\n",
    "\n",
    "# Clean text fields (remove line breaks and extra spaces)\n",
    "video_df['title'] = video_df['title'].str.replace('\\n', ' ').str.strip()\n",
    "video_df['description'] = video_df['description'].str.replace('\\n', ' ').str.strip()\n",
    "\n",
    "video_df.head()"
   ]
  },
  {
   "cell_type": "markdown",
   "id": "d64899be-4520-4ebe-9590-f1b98bb84315",
   "metadata": {},
   "source": [
    "## Clean Comment Data\n",
    "\n",
    "Here’s what we’ll do:\n",
    "\n",
    "- Remove empty or deleted comments\n",
    "\n",
    "- Convert date\n",
    "\n",
    "- Clean and tokenize text"
   ]
  },
  {
   "cell_type": "markdown",
   "id": "d7bfde18-42c6-423c-bae1-8789dc3e2ed3",
   "metadata": {},
   "source": [
    "### Clean Comments Data\n",
    "\n",
    "We prepare the comments for sentiment and text analysis by:\n",
    "\n",
    "- Removing rows with missing or `[deleted]` comments  \n",
    "- Converting `commentPublishedAt` to datetime format  \n",
    "- Cleaning `textDisplay` to create a `clean_text` column:\n",
    "  - Removes URLs and special characters  \n",
    "  - Converts text to lowercase  \n",
    "  - Removes English stopwords (e.g., \"the\", \"and\", \"is\")\n",
    "\n",
    "This results in clean, meaningful text ready for sentiment analysis and word frequency visuals."
   ]
  },
  {
   "cell_type": "code",
   "execution_count": 44,
   "id": "e65718b1-b744-4ea0-8174-9f5e3269f573",
   "metadata": {},
   "outputs": [
    {
     "name": "stderr",
     "output_type": "stream",
     "text": [
      "<>:3: SyntaxWarning: invalid escape sequence '\\['\n",
      "<>:3: SyntaxWarning: invalid escape sequence '\\['\n",
      "C:\\Users\\user\\AppData\\Local\\Temp\\ipykernel_3160\\3211246972.py:3: SyntaxWarning: invalid escape sequence '\\['\n",
      "  comments_df = comments_df[~comments_df['textDisplay'].str.contains('\\[deleted\\]', case=False)]\n"
     ]
    },
    {
     "data": {
      "text/html": [
       "<div>\n",
       "<style scoped>\n",
       "    .dataframe tbody tr th:only-of-type {\n",
       "        vertical-align: middle;\n",
       "    }\n",
       "\n",
       "    .dataframe tbody tr th {\n",
       "        vertical-align: top;\n",
       "    }\n",
       "\n",
       "    .dataframe thead th {\n",
       "        text-align: right;\n",
       "    }\n",
       "</style>\n",
       "<table border=\"1\" class=\"dataframe\">\n",
       "  <thead>\n",
       "    <tr style=\"text-align: right;\">\n",
       "      <th></th>\n",
       "      <th>videoId</th>\n",
       "      <th>authorDisplayName</th>\n",
       "      <th>textDisplay</th>\n",
       "      <th>commentLikeCount</th>\n",
       "      <th>commentPublishedAt</th>\n",
       "      <th>clean_text</th>\n",
       "    </tr>\n",
       "  </thead>\n",
       "  <tbody>\n",
       "    <tr>\n",
       "      <th>0</th>\n",
       "      <td>UN5qgBk6MwY</td>\n",
       "      <td>@iliya-malecki</td>\n",
       "      <td>Id prefer to watch a video on one of the great...</td>\n",
       "      <td>0</td>\n",
       "      <td>2025-06-25 23:29:49+00:00</td>\n",
       "      <td>id prefer watch video one greatest minds human...</td>\n",
       "    </tr>\n",
       "    <tr>\n",
       "      <th>1</th>\n",
       "      <td>UN5qgBk6MwY</td>\n",
       "      <td>@4D_art</td>\n",
       "      <td>Grigori “Pearl”man .</td>\n",
       "      <td>0</td>\n",
       "      <td>2025-06-25 20:48:16+00:00</td>\n",
       "      <td>grigori pearlman</td>\n",
       "    </tr>\n",
       "    <tr>\n",
       "      <th>2</th>\n",
       "      <td>UN5qgBk6MwY</td>\n",
       "      <td>@tomorrows-med</td>\n",
       "      <td>Pure genius</td>\n",
       "      <td>0</td>\n",
       "      <td>2025-06-25 14:04:09+00:00</td>\n",
       "      <td>pure genius</td>\n",
       "    </tr>\n",
       "    <tr>\n",
       "      <th>3</th>\n",
       "      <td>UN5qgBk6MwY</td>\n",
       "      <td>@extavwudda</td>\n",
       "      <td>I am so sick of Lex sucking up to people</td>\n",
       "      <td>0</td>\n",
       "      <td>2025-06-25 06:08:24+00:00</td>\n",
       "      <td>sick lex sucking people</td>\n",
       "    </tr>\n",
       "    <tr>\n",
       "      <th>4</th>\n",
       "      <td>UN5qgBk6MwY</td>\n",
       "      <td>@michealvallieres9228</td>\n",
       "      <td>Dude why would you interview a guy that's neve...</td>\n",
       "      <td>0</td>\n",
       "      <td>2025-06-23 23:40:40+00:00</td>\n",
       "      <td>dude would interview guy thats never met right...</td>\n",
       "    </tr>\n",
       "  </tbody>\n",
       "</table>\n",
       "</div>"
      ],
      "text/plain": [
       "       videoId      authorDisplayName  \\\n",
       "0  UN5qgBk6MwY         @iliya-malecki   \n",
       "1  UN5qgBk6MwY                @4D_art   \n",
       "2  UN5qgBk6MwY         @tomorrows-med   \n",
       "3  UN5qgBk6MwY            @extavwudda   \n",
       "4  UN5qgBk6MwY  @michealvallieres9228   \n",
       "\n",
       "                                         textDisplay  commentLikeCount  \\\n",
       "0  Id prefer to watch a video on one of the great...                 0   \n",
       "1                               Grigori “Pearl”man .                 0   \n",
       "2                                        Pure genius                 0   \n",
       "3           I am so sick of Lex sucking up to people                 0   \n",
       "4  Dude why would you interview a guy that's neve...                 0   \n",
       "\n",
       "         commentPublishedAt                                         clean_text  \n",
       "0 2025-06-25 23:29:49+00:00  id prefer watch video one greatest minds human...  \n",
       "1 2025-06-25 20:48:16+00:00                                   grigori pearlman  \n",
       "2 2025-06-25 14:04:09+00:00                                        pure genius  \n",
       "3 2025-06-25 06:08:24+00:00                            sick lex sucking people  \n",
       "4 2025-06-23 23:40:40+00:00  dude would interview guy thats never met right...  "
      ]
     },
     "execution_count": 44,
     "metadata": {},
     "output_type": "execute_result"
    }
   ],
   "source": [
    "# Remove [deleted] or empty comments\n",
    "comments_df = comments_df[comments_df['textDisplay'].notna()]\n",
    "comments_df = comments_df[~comments_df['textDisplay'].str.contains('\\[deleted\\]', case=False)]\n",
    "\n",
    "# Convert to datetime\n",
    "comments_df['commentPublishedAt'] = pd.to_datetime(comments_df['commentPublishedAt'])\n",
    "\n",
    "# Clean comment text\n",
    "def clean_comment(text):\n",
    "    text = re.sub(r\"http\\S+\", \"\", text)  # Remove URLs\n",
    "    text = re.sub(r\"[^A-Za-z\\s]\", \"\", text)  # Remove special characters\n",
    "    text = text.lower()\n",
    "    words = text.split()\n",
    "    words = [word for word in words if word not in stopwords.words('english')]\n",
    "    return \" \".join(words)\n",
    "\n",
    "comments_df['clean_text'] = comments_df['textDisplay'].astype(str).apply(clean_comment)\n",
    "\n",
    "comments_df.head()"
   ]
  },
  {
   "cell_type": "markdown",
   "id": "4dd47795-ad2d-4343-b8be-c281511e0f2b",
   "metadata": {},
   "source": [
    "## Merge the datasets\n",
    "\n",
    "We merge the video and comment datasets using `videoId` as the key.\n",
    "\n",
    "- `how=\"inner\"` keeps only the records that exist in both datasets  \n",
    "- The result (`merged_df`) combines video metadata with its related comments\n",
    "\n",
    "This merged dataset will be used for analysis, sentiment, and visualizations."
   ]
  },
  {
   "cell_type": "code",
   "execution_count": 54,
   "id": "1acaff29-8a6f-42e4-9329-999b9442f3fb",
   "metadata": {},
   "outputs": [
    {
     "data": {
      "text/html": [
       "<div>\n",
       "<style scoped>\n",
       "    .dataframe tbody tr th:only-of-type {\n",
       "        vertical-align: middle;\n",
       "    }\n",
       "\n",
       "    .dataframe tbody tr th {\n",
       "        vertical-align: top;\n",
       "    }\n",
       "\n",
       "    .dataframe thead th {\n",
       "        text-align: right;\n",
       "    }\n",
       "</style>\n",
       "<table border=\"1\" class=\"dataframe\">\n",
       "  <thead>\n",
       "    <tr style=\"text-align: right;\">\n",
       "      <th></th>\n",
       "      <th>videoId</th>\n",
       "      <th>authorDisplayName</th>\n",
       "      <th>textDisplay</th>\n",
       "      <th>commentLikeCount</th>\n",
       "      <th>commentPublishedAt</th>\n",
       "      <th>clean_text</th>\n",
       "      <th>title</th>\n",
       "      <th>videoPublishedAt</th>\n",
       "      <th>viewCount</th>\n",
       "      <th>videoLikeCount</th>\n",
       "      <th>commentCount</th>\n",
       "      <th>tags</th>\n",
       "      <th>description</th>\n",
       "    </tr>\n",
       "  </thead>\n",
       "  <tbody>\n",
       "    <tr>\n",
       "      <th>0</th>\n",
       "      <td>UN5qgBk6MwY</td>\n",
       "      <td>@iliya-malecki</td>\n",
       "      <td>Id prefer to watch a video on one of the great...</td>\n",
       "      <td>0</td>\n",
       "      <td>2025-06-25 23:29:49+00:00</td>\n",
       "      <td>id prefer watch video one greatest minds human...</td>\n",
       "      <td>Terence Tao on Grigori Perelman declining the ...</td>\n",
       "      <td>2025-06-19 23:23:00+00:00</td>\n",
       "      <td>167222</td>\n",
       "      <td>3301</td>\n",
       "      <td>60</td>\n",
       "      <td>[]</td>\n",
       "      <td>Null</td>\n",
       "    </tr>\n",
       "    <tr>\n",
       "      <th>1</th>\n",
       "      <td>UN5qgBk6MwY</td>\n",
       "      <td>@4D_art</td>\n",
       "      <td>Grigori “Pearl”man .</td>\n",
       "      <td>0</td>\n",
       "      <td>2025-06-25 20:48:16+00:00</td>\n",
       "      <td>grigori pearlman</td>\n",
       "      <td>Terence Tao on Grigori Perelman declining the ...</td>\n",
       "      <td>2025-06-19 23:23:00+00:00</td>\n",
       "      <td>167222</td>\n",
       "      <td>3301</td>\n",
       "      <td>60</td>\n",
       "      <td>[]</td>\n",
       "      <td>Null</td>\n",
       "    </tr>\n",
       "    <tr>\n",
       "      <th>2</th>\n",
       "      <td>UN5qgBk6MwY</td>\n",
       "      <td>@tomorrows-med</td>\n",
       "      <td>Pure genius</td>\n",
       "      <td>0</td>\n",
       "      <td>2025-06-25 14:04:09+00:00</td>\n",
       "      <td>pure genius</td>\n",
       "      <td>Terence Tao on Grigori Perelman declining the ...</td>\n",
       "      <td>2025-06-19 23:23:00+00:00</td>\n",
       "      <td>167222</td>\n",
       "      <td>3301</td>\n",
       "      <td>60</td>\n",
       "      <td>[]</td>\n",
       "      <td>Null</td>\n",
       "    </tr>\n",
       "    <tr>\n",
       "      <th>3</th>\n",
       "      <td>UN5qgBk6MwY</td>\n",
       "      <td>@extavwudda</td>\n",
       "      <td>I am so sick of Lex sucking up to people</td>\n",
       "      <td>0</td>\n",
       "      <td>2025-06-25 06:08:24+00:00</td>\n",
       "      <td>sick lex sucking people</td>\n",
       "      <td>Terence Tao on Grigori Perelman declining the ...</td>\n",
       "      <td>2025-06-19 23:23:00+00:00</td>\n",
       "      <td>167222</td>\n",
       "      <td>3301</td>\n",
       "      <td>60</td>\n",
       "      <td>[]</td>\n",
       "      <td>Null</td>\n",
       "    </tr>\n",
       "    <tr>\n",
       "      <th>4</th>\n",
       "      <td>UN5qgBk6MwY</td>\n",
       "      <td>@michealvallieres9228</td>\n",
       "      <td>Dude why would you interview a guy that's neve...</td>\n",
       "      <td>0</td>\n",
       "      <td>2025-06-23 23:40:40+00:00</td>\n",
       "      <td>dude would interview guy thats never met right...</td>\n",
       "      <td>Terence Tao on Grigori Perelman declining the ...</td>\n",
       "      <td>2025-06-19 23:23:00+00:00</td>\n",
       "      <td>167222</td>\n",
       "      <td>3301</td>\n",
       "      <td>60</td>\n",
       "      <td>[]</td>\n",
       "      <td>Null</td>\n",
       "    </tr>\n",
       "  </tbody>\n",
       "</table>\n",
       "</div>"
      ],
      "text/plain": [
       "       videoId      authorDisplayName  \\\n",
       "0  UN5qgBk6MwY         @iliya-malecki   \n",
       "1  UN5qgBk6MwY                @4D_art   \n",
       "2  UN5qgBk6MwY         @tomorrows-med   \n",
       "3  UN5qgBk6MwY            @extavwudda   \n",
       "4  UN5qgBk6MwY  @michealvallieres9228   \n",
       "\n",
       "                                         textDisplay  commentLikeCount  \\\n",
       "0  Id prefer to watch a video on one of the great...                 0   \n",
       "1                               Grigori “Pearl”man .                 0   \n",
       "2                                        Pure genius                 0   \n",
       "3           I am so sick of Lex sucking up to people                 0   \n",
       "4  Dude why would you interview a guy that's neve...                 0   \n",
       "\n",
       "         commentPublishedAt  \\\n",
       "0 2025-06-25 23:29:49+00:00   \n",
       "1 2025-06-25 20:48:16+00:00   \n",
       "2 2025-06-25 14:04:09+00:00   \n",
       "3 2025-06-25 06:08:24+00:00   \n",
       "4 2025-06-23 23:40:40+00:00   \n",
       "\n",
       "                                          clean_text  \\\n",
       "0  id prefer watch video one greatest minds human...   \n",
       "1                                   grigori pearlman   \n",
       "2                                        pure genius   \n",
       "3                            sick lex sucking people   \n",
       "4  dude would interview guy thats never met right...   \n",
       "\n",
       "                                               title  \\\n",
       "0  Terence Tao on Grigori Perelman declining the ...   \n",
       "1  Terence Tao on Grigori Perelman declining the ...   \n",
       "2  Terence Tao on Grigori Perelman declining the ...   \n",
       "3  Terence Tao on Grigori Perelman declining the ...   \n",
       "4  Terence Tao on Grigori Perelman declining the ...   \n",
       "\n",
       "           videoPublishedAt  viewCount  videoLikeCount  commentCount tags  \\\n",
       "0 2025-06-19 23:23:00+00:00     167222            3301            60   []   \n",
       "1 2025-06-19 23:23:00+00:00     167222            3301            60   []   \n",
       "2 2025-06-19 23:23:00+00:00     167222            3301            60   []   \n",
       "3 2025-06-19 23:23:00+00:00     167222            3301            60   []   \n",
       "4 2025-06-19 23:23:00+00:00     167222            3301            60   []   \n",
       "\n",
       "  description  \n",
       "0        Null  \n",
       "1        Null  \n",
       "2        Null  \n",
       "3        Null  \n",
       "4        Null  "
      ]
     },
     "execution_count": 54,
     "metadata": {},
     "output_type": "execute_result"
    }
   ],
   "source": [
    "merged_df = pd.merge(comments_df, video_df, on=\"videoId\", how=\"inner\")\n",
    "merged_df.head()"
   ]
  },
  {
   "cell_type": "markdown",
   "id": "5d829fe3-075a-4937-ade4-0ac55d76e195",
   "metadata": {},
   "source": [
    "### Understanding the dataset\n",
    "\n",
    "Before proceeding with the cleaning, we would like to understanding the variables deeply. This would help guide the cleaning process. The subsequent tables detail the types, meaning and values or ranges of the variables in the dataset.\n",
    "\n",
    "**Summary Table of the Variables in the Merged Dataset**\n",
    "\n",
    "| Variable             | Type      | Description                                             | Values / Range (excluding NaN)                      |\n",
    "|----------------------|-----------|---------------------------------------------------------|------------------------------------------------------|\n",
    "| videoId              | object    | Unique ID for each video                               | Strings (e.g., `_P7S2lKif-A`)                        |\n",
    "| authorDisplayName    | object    | Name of the comment author                              | Strings (e.g., \"John Doe\", \"unknown\")               |\n",
    "| textDisplay          | object    | Original comment text                                   | User-written text, can be long                       |\n",
    "| commentLikeCount     | int       | Number of likes on the comment                          | 0 to hundreds                                       |\n",
    "| commentPublishedAt   | datetime  | Date when the comment was posted                        | 2-year range (e.g., 2022–2024)                      |\n",
    "| clean_text           | object    | Cleaned comment text (for analysis)                     | Lowercased, punctuation-free words                  |\n",
    "| title                | object    | Title of the video                                      | Short strings (titles)                              |\n",
    "| videoPublishedAt     | datetime  | Date when the video was published                       | 2-year range                                        |\n",
    "| viewCount            | int       | Total views on the video                                | Varies — 1,000s to millions                         |\n",
    "| videoLikeCount       | int       | Total likes on the video                                | Varies — 0 to hundreds of thousands                 |\n",
    "| commentCount         | int       | Total comments on the video                             | 0 to thousands                                      |\n",
    "| tags                 | object    | Tags or keywords associated with the video              | Lists (e.g., ['AI', 'Podcast'])                     |\n",
    "| description          | object    | Description of the video                                | Text (can be multiline)                             |\n",
    "| sentiment            | object    | Sentiment label for the comment                         | Positive, Neutral, Negative                         |\n"
   ]
  },
  {
   "cell_type": "markdown",
   "id": "c68e82f7-4386-4087-8306-5a78f427d6f0",
   "metadata": {},
   "source": [
    "### Check for Duplicate Rows\n",
    "\n",
    "We use `.duplicated().sum()` to count any exact duplicate rows in the merged dataset.\n",
    "\n",
    "- Helps ensure data integrity before analysis  \n",
    "- If duplicates exist, we may choose to remove them\n",
    "\n",
    "A clean dataset should have little to no duplicates."
   ]
  },
  {
   "cell_type": "code",
   "execution_count": 56,
   "id": "9e7de4fe-2890-47ca-ac7c-5debe79f7a3f",
   "metadata": {},
   "outputs": [
    {
     "data": {
      "text/plain": [
       "0"
      ]
     },
     "execution_count": 56,
     "metadata": {},
     "output_type": "execute_result"
    }
   ],
   "source": [
    "merged_df.duplicated().sum()"
   ]
  },
  {
   "cell_type": "markdown",
   "id": "332000e2-9698-452c-93cf-bef52f8deccd",
   "metadata": {},
   "source": [
    "### Check for Missing Values in Merged Data\n",
    "\n",
    "We use `.isna().sum()` to identify any missing values in the merged dataset.\n",
    "\n",
    "- Helps us detect fields that might need cleaning or filling  \n",
    "- Ensures no important column is left incomplete before analysis\n",
    "\n",
    "This step ensures our final dataset is reliable and ready for insights."
   ]
  },
  {
   "cell_type": "code",
   "execution_count": 58,
   "id": "411cd3e7-8a06-4f41-be36-cca752010732",
   "metadata": {},
   "outputs": [
    {
     "data": {
      "text/plain": [
       "videoId               0\n",
       "authorDisplayName     0\n",
       "textDisplay           0\n",
       "commentLikeCount      0\n",
       "commentPublishedAt    0\n",
       "clean_text            0\n",
       "title                 0\n",
       "videoPublishedAt      0\n",
       "viewCount             0\n",
       "videoLikeCount        0\n",
       "commentCount          0\n",
       "tags                  0\n",
       "description           0\n",
       "dtype: int64"
      ]
     },
     "execution_count": 58,
     "metadata": {},
     "output_type": "execute_result"
    }
   ],
   "source": [
    "merged_df.isna().sum()"
   ]
  },
  {
   "cell_type": "markdown",
   "id": "9e243b0a-55d6-4d0b-a316-362a80fae1db",
   "metadata": {},
   "source": [
    "### Save Cleaned Dataset\n",
    "\n",
    "We save the cleaned and merged dataset to a new CSV file for future analysis.\n",
    "\n",
    "- `os.path.join(...)` ensures the path works on any system  \n",
    "- `to_csv(..., index=False)` saves the file without row numbers  \n",
    "- The final file is ready for exploratory analysis, sentiment analysis, and visualization\n",
    "\n",
    "Cleaned data is now safely stored and reusable."
   ]
  },
  {
   "cell_type": "code",
   "execution_count": 60,
   "id": "5c64ddec-f710-4c5c-afb0-131c7b6a46ce",
   "metadata": {},
   "outputs": [
    {
     "name": "stdout",
     "output_type": "stream",
     "text": [
      "Saved Video&Comments. Total: 4682\n",
      "\n",
      "Cleaned data saved to: C:\\Users\\user\\Documents\\tekHer\\YouTube-Channel-Insights\\data\\processed\\Video_Comments_DS.csv\n"
     ]
    }
   ],
   "source": [
    "clean_filename = os.path.join(processed_dir, \"Video_Comments_DS.csv\")\n",
    "merged_df.to_csv(clean_filename, index=False)\n",
    "print(\"Saved Video&Comments. Total:\", len(merged_df))\n",
    "print(f\"\\nCleaned data saved to: {clean_filename}\")"
   ]
  }
 ],
 "metadata": {
  "kernelspec": {
   "display_name": "Python 3 (ipykernel)",
   "language": "python",
   "name": "python3"
  },
  "language_info": {
   "codemirror_mode": {
    "name": "ipython",
    "version": 3
   },
   "file_extension": ".py",
   "mimetype": "text/x-python",
   "name": "python",
   "nbconvert_exporter": "python",
   "pygments_lexer": "ipython3",
   "version": "3.12.7"
  }
 },
 "nbformat": 4,
 "nbformat_minor": 5
}
